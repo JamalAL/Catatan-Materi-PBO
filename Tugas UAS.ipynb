{
 "cells": [
  {
   "cell_type": "markdown",
   "metadata": {},
   "source": [
    "# Class & Object\n",
    "__Class__ adalah properti yang kita buat dari sebuah objek untuk mendefinisikan sebuah atribut.\n",
    "\n",
    "Sedangkan __Object__ adalah struktur data yang mendefinisikan dari sebuah class\n",
    "\n",
    "![](/jamal/hhhh.png)\n",
    "\n",
    "Methode dari program python menggunakan __init__(), methode tersebut digunakan untuk menganalisis objek dari kelas tersebut dan \n",
    "setiap methode harus mempunyai (self), untuk membedakan method atau fungsi yang berada di luar class.\n",
    "\n",
    "__Class__ merupakan sebuah entitas, entitas dari class merupakan realisasi dari beberapa objek \n",
    "Objek juga disebut turunan dari class.\n",
    "![](/jamal/jml%201.jpg)"
   ]
  },
  {
   "cell_type": "markdown",
   "metadata": {},
   "source": [
    "# Inheritance\n",
    "__Inheritance__ adalah kelas yang menggunakan kode yang terdapat di dalam kelas lain.\n",
    "Artinya, seorang anak dapat mewarisi tinggi atau warna mata orang tua. \n",
    "Anak tersebut juga bisa memiliki nama belakang yang sama dengan orang tua mereka.\n",
    "\n",
    "![](/jamal/inh1.jpg)\n",
    "![](/jamal/inh2.jpg)\n",
    "\n",
    "\n",
    "![](/jamal/nomer2.jpg)\n",
    "\n"
   ]
  },
  {
   "cell_type": "markdown",
   "metadata": {},
   "source": [
    "# Type of Inheritance\n",
    "![](/jamal/inh3.png)\n",
    "\n",
    "__1.Default__\n",
    "\n",
    "Default merupakan tipe yang properti,properti dan method di dalam kelas induk sama persis dengan subclass yang menggunakan __pass__\n",
    "\n",
    "__2.Overriding__\n",
    "\n",
    "Overriding tipe inheritance yang kelas anak dapat memodifikasi salah satu method/properti dalam kelas induk tetapi kelas anak harus punya nama yang sama,tanda,dan parameter yang ada pada kelas induknya\n",
    "\n",
    "__3.Super__\n",
    "\n",
    "Super tipe inheritance dimana kelas anak dapat mengambil method yang sama pada kelas induk dan tipe inheritance yang unik dan menngunakan super().init(self) untuk mengambil method pada kelas induk\n",
    "\n",
    "__4.Multiple__\n",
    "\n",
    "Multiple tipe inheritance yang berasal dari dua kelas diatasnya yang digabung menjadi satu dan multiple akan membuat kelas baru untuk menampung gabungan dua kelas tersebut.\n",
    "\n",
    "![](/jamal/latihan%202.jpg)"
   ]
  },
  {
   "cell_type": "markdown",
   "metadata": {},
   "source": [
    "# Polymorpisme\n",
    "__Polymorphisme__ adalah (banyak bentuk) merupakan salah satu sifat class yang memungkinkan sebuah method mempunyai nama yang sama,namun memiliki aksi yang berbeda\n",
    "\n",
    "![](/jamal/py1.jpg)\n",
    "\n",
    "__1.Polymorphisme with a function__\n",
    "Memanggilnya menggunakan function (def)\n",
    "![](/jamal/py2.jpg)\n",
    "\n",
    "__2.Polymorphisme with a method__\n",
    "Memanggilnya menggunakan method\n",
    "![](/jamal/py3.jpg)"
   ]
  },
  {
   "attachments": {},
   "cell_type": "markdown",
   "metadata": {},
   "source": [
    "# Method & Operator Overloading\n",
    "__A.PENGERTIAN METHOD OVERLOADING__\n",
    "\n",
    "__Method Overloading__ adalah kemampuan untuk mendefinisikan suatu method yang sama, dengan nama yang sama tetapi dengan jumlah argumen dan tipe yang berbeda.\n",
    "\n",
    "Jika terdapat dua method yang sama dalam satu kelas maka method yang paling bawah yang menjadi acuan.\n",
    "![](/jmlss/dua.PNG)\n",
    "__B.PENGERTIAN OPERATOR OVERLOADING__\n",
    "\n",
    "\n",
    "__Overloading Operator__ merupakan penggunaan sebuah operator pada sebuah operasi diluar kebiasaan.\n",
    "Tujuan overloading terhadap operator adalah untuk memudahkan operasi terhadap data terutama yang berupa obyek.\n",
    "\n",
    "Dalam Operator Overloading ada yang dinamakan __\"Magic Method\"__. Berikut beberapa jenis magic method :\n",
    "![](/jmlss/4a.PNG)\n",
    "![](/jmlss/5.PNG)\n",
    "![](/jmlss/6.PNG)\n",
    "\n",
    "Contoh operator overloading dan magic method :\n",
    "![](/jmlss/tiga.PNG)"
   ]
  },
  {
   "attachments": {},
   "cell_type": "markdown",
   "metadata": {},
   "source": [
    "# Encapsulation\n",
    "__Encapsulation__ adalah sebuah metoda untuk mengatur struktur class dengan cara menyembunyikan alur kerja dari class tersebut.\n",
    "\n",
    "Dengan __enkapsulasi__, kita bisa memilih property dan method apa saja yang boleh diakses, dan mana yang tidak boleh diakses. \n",
    "\n",
    "Untuk membatasi hak akses kepada property dan method di dalam sebuah class, __Objek Oriented Programming menyediakan 3 kata kunci, yakni Public, Protected dan Private__ :\n",
    "\n",
    "-Ketika sebuah property atau method dinyatakan sebagai __Public__, maka seluruh kode program di luar class bisa mengaksesnya, termasuk class turunan.\n",
    "\n",
    "-__Private__ memberikan hak akses hanya kepada anggota class tersebut untuk menggunakan dan/atau mengubah nilai dari property atau method tersebut\n",
    "\n",
    "-__Protected__ yaitu memberikan hak akses kepada class itu sendiri dan class hasil turunannya (inheritance).\n",
    "\n",
    "Untuk mengakses method yang terproteksi sendiri ada dua cara yaitu cara menambah _ . (nama kelas) atau menggunakan metode get/set.\n",
    "\n",
    "\n",
    "![](/jmlss/10%20jml.jpg)"
   ]
  },
  {
   "cell_type": "code",
   "execution_count": null,
   "metadata": {},
   "outputs": [],
   "source": []
  }
 ],
 "metadata": {
  "kernelspec": {
   "display_name": "Python 3",
   "language": "python",
   "name": "python3"
  },
  "language_info": {
   "codemirror_mode": {
    "name": "ipython",
    "version": 3
   },
   "file_extension": ".py",
   "mimetype": "text/x-python",
   "name": "python",
   "nbconvert_exporter": "python",
   "pygments_lexer": "ipython3",
   "version": "3.7.1"
  }
 },
 "nbformat": 4,
 "nbformat_minor": 2
}
