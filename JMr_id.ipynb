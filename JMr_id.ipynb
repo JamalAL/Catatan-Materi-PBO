{
 "cells": [
  {
   "attachments": {},
   "cell_type": "markdown",
   "metadata": {},
   "source": [
    "# Class & Object\n",
    "__Class__ adalah properti yang kita buat dari sebuah objek untuk mendefinisikan sebuah atribut.\n",
    "\n",
    "Sedangkan __Object__ adalah struktur data yang mendefinisikan dari sebuah class\n",
    "\n",
    "![](/jamal/hhhh.png)\n",
    "\n",
    "Methode dari program python menggunakan __init__(), methode tersebut digunakan untuk menganalisis objek dari kelas tersebut dan \n",
    "setiap methode harus mempunyai (self), untuk membedakan method atau fungsi yang berada di luar class.\n",
    "\n",
    "Class merupakan sebuah entitas, entitas dari class merupakan realisasi dari beberapa objek \n",
    "Objek juga disebut turunan dari class.\n",
    "![](/jamal/jml%201.jpg)"
   ]
  },
  {
   "attachments": {},
   "cell_type": "markdown",
   "metadata": {},
   "source": [
    "# Inheritance\n",
    "Inheritance adalah kelas yang menggunakan kode yang terdapat di dalam kelas lain.\n",
    "Artinya, seorang anak dapat mewarisi tinggi atau warna mata orang tua. \n",
    "Anak tersebut juga bisa memiliki nama belakang yang sama dengan orang tua mereka.\n",
    "\n",
    "![](/jamal/inh1.jpg)\n",
    "![](/jamal/inh2.jpg)\n",
    "\n",
    "\n",
    "![](/jamal/nomer2.jpg)\n",
    "\n"
   ]
  },
  {
   "attachments": {},
   "cell_type": "markdown",
   "metadata": {},
   "source": [
    "# Type of Inheritance\n",
    "![](/jamal/inh3.png)\n",
    "\n",
    "__1.Default__\n",
    "\n",
    "Default merupakan tipe yang properti,properti dan method di dalam kelas induk sama persis dengan subclass yang menggunakan __pass__\n",
    "\n",
    "__2.Overriding__\n",
    "\n",
    "Overriding tipe inheritance yang kelas anak dapat memodifikasi salah satu method/properti dalam kelas induk tetapi kelas anak harus punya nama yang sama,tanda,dan parameter yang ada pada kelas induknya\n",
    "\n",
    "__3.Super__\n",
    "\n",
    "Super tipe inheritance dimana kelas anak dapat mengambil method yang sama pada kelas induk dan tipe inheritance yang unik dan menngunakan super().init(self) untuk mengambil method pada kelas induk\n",
    "\n",
    "__4.Multiple__\n",
    "\n",
    "Multiple tipe inheritance yang berasal dari dua kelas diatasnya yang digabung menjadi satu dan multiple akan membuat kelas baru untuk menampung gabungan dua kelas tersebut.\n",
    "\n",
    "![](/jamal/latihan%202.jpg)"
   ]
  },
  {
   "attachments": {},
   "cell_type": "markdown",
   "metadata": {},
   "source": [
    "# Polymorpisme\n",
    "__Polymorphisme__ adalah (banyak bentuk) merupakan salah satu sifat class yang memungkinkan sebuah method mempunyai nama yang sama,namun memiliki aksi yang berbeda\n",
    "\n",
    "![](/jamal/py1.jpg)\n",
    "\n",
    "__1.Polymorphisme with a function__\n",
    "Memanggilnya menggunakan function (def)\n",
    "![](/jamal/py2.jpg)\n",
    "\n",
    "__2.Polymorphisme with a method__\n",
    "Memanggilnya menggunakan method\n",
    "![](/jamal/py3.jpg)"
   ]
  },
  {
   "cell_type": "code",
   "execution_count": null,
   "metadata": {},
   "outputs": [],
   "source": []
  },
  {
   "cell_type": "code",
   "execution_count": null,
   "metadata": {},
   "outputs": [],
   "source": []
  }
 ],
 "metadata": {
  "kernelspec": {
   "display_name": "Python 3",
   "language": "python",
   "name": "python3"
  },
  "language_info": {
   "codemirror_mode": {
    "name": "ipython",
    "version": 3
   },
   "file_extension": ".py",
   "mimetype": "text/x-python",
   "name": "python",
   "nbconvert_exporter": "python",
   "pygments_lexer": "ipython3",
   "version": "3.7.1"
  }
 },
 "nbformat": 4,
 "nbformat_minor": 2
}
